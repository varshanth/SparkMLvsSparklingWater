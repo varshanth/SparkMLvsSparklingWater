{
 "cells": [
  {
   "cell_type": "code",
   "execution_count": 1,
   "metadata": {},
   "outputs": [],
   "source": [
    "from load_susy_into_df import susy_csv_to_df"
   ]
  },
  {
   "cell_type": "code",
   "execution_count": 2,
   "metadata": {},
   "outputs": [],
   "source": [
    "path_to_csv = '/home/varsrao/Downloads/SUSY.csv'\n",
    "chunksize = 100000\n",
    "num_train_chunks = 4\n",
    "num_test_chunks = 3"
   ]
  },
  {
   "cell_type": "code",
   "execution_count": 3,
   "metadata": {},
   "outputs": [
    {
     "name": "stdout",
     "output_type": "stream",
     "text": [
      "----Loading Dataset----\n"
     ]
    }
   ],
   "source": [
    "print('----Loading Dataset----')\n",
    "ds_train_pd_df, ds_test_pd_df, target_col_name, target_col_idx, feature_col_names = susy_csv_to_df(\n",
    "        path_to_csv, chunksize, num_train_chunks, num_test_chunks)\n",
    "col_names = [target_col_name]+feature_col_names\n",
    "import pandas as pd\n",
    "ds_merged_pd_df = pd.concat([ds_train_pd_df, ds_test_pd_df])\n",
    "train_frac = 1. * num_train_chunks/(num_test_chunks+num_train_chunks)"
   ]
  },
  {
   "cell_type": "code",
   "execution_count": 4,
   "metadata": {},
   "outputs": [
    {
     "name": "stdout",
     "output_type": "stream",
     "text": [
      "----Creating Spark Context----\n"
     ]
    }
   ],
   "source": [
    "print('----Creating Spark Context----')\n",
    "from pyspark.sql import SQLContext\n",
    "sqlCtx = SQLContext(sc)"
   ]
  },
  {
   "cell_type": "code",
   "execution_count": 5,
   "metadata": {},
   "outputs": [
    {
     "name": "stdout",
     "output_type": "stream",
     "text": [
      "----Creating Spark DataFrame----\n"
     ]
    }
   ],
   "source": [
    "print('----Creating Spark DataFrame----')\n",
    "ds_spark_df = sqlCtx.createDataFrame(ds_merged_pd_df, schema=col_names)"
   ]
  },
  {
   "cell_type": "code",
   "execution_count": 6,
   "metadata": {},
   "outputs": [
    {
     "name": "stdout",
     "output_type": "stream",
     "text": [
      "----Assembling Data----\n"
     ]
    }
   ],
   "source": [
    "print('----Assembling Data----')\n",
    "from pyspark.ml.feature import VectorAssembler\n",
    "vecassembler = VectorAssembler(\n",
    "        inputCols=ds_spark_df.columns[:target_col_idx]+ds_spark_df.columns[target_col_idx+1:],\n",
    "        outputCol=\"features\")\n",
    "features_vec = vecassembler.transform(ds_spark_df)\n",
    "features_vec = features_vec.withColumnRenamed(target_col_name, \"label\")\n",
    "features_data = features_vec.select(\"label\", \"features\")\n",
    "feat_train, feat_test = features_data.randomSplit([train_frac, 1-train_frac])"
   ]
  },
  {
   "cell_type": "code",
   "execution_count": 7,
   "metadata": {},
   "outputs": [
    {
     "name": "stdout",
     "output_type": "stream",
     "text": [
      "----Training Model----\n"
     ]
    }
   ],
   "source": [
    "print('----Training Model----')\n",
    "from pyspark.ml.clustering import KMeans\n",
    "kmeans = KMeans(featuresCol=\"features\", k=2, maxIter=1000000)\n",
    "kmeans_model = kmeans.fit(feat_train)"
   ]
  },
  {
   "cell_type": "code",
   "execution_count": 8,
   "metadata": {},
   "outputs": [
    {
     "name": "stdout",
     "output_type": "stream",
     "text": [
      "----Testing Model----\n",
      "Silhouette with squared euclidean distance = 0.29049559584989\n",
      "----End----\n"
     ]
    }
   ],
   "source": [
    "print('----Testing Model----')\n",
    "from pyspark.ml.evaluation import ClusteringEvaluator\n",
    "predictions = kmeans_model.transform(feat_test)\n",
    "evaluator = ClusteringEvaluator()\n",
    "silhouette = evaluator.evaluate(predictions)\n",
    "print(\"Silhouette with squared euclidean distance = \" + str(silhouette))\n",
    "centers = kmeans_model.clusterCenters()\n",
    "feat = feat_train.collect()[0].features\n",
    "\n",
    "print('----End----')"
   ]
  }
 ],
 "metadata": {
  "kernelspec": {
   "display_name": "Python 3",
   "language": "python",
   "name": "python3"
  },
  "language_info": {
   "codemirror_mode": {
    "name": "ipython",
    "version": 3
   },
   "file_extension": ".py",
   "mimetype": "text/x-python",
   "name": "python",
   "nbconvert_exporter": "python",
   "pygments_lexer": "ipython3",
   "version": "3.7.0"
  }
 },
 "nbformat": 4,
 "nbformat_minor": 2
}
