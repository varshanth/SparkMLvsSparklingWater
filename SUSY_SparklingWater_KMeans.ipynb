{
 "cells": [
  {
   "cell_type": "code",
   "execution_count": 1,
   "metadata": {},
   "outputs": [],
   "source": [
    "from pysparkling import *\n",
    "from load_susy_into_df import susy_csv_to_df"
   ]
  },
  {
   "cell_type": "code",
   "execution_count": 2,
   "metadata": {},
   "outputs": [],
   "source": [
    "path_to_csv = '/home/varsrao/Downloads/SUSY.csv'\n",
    "chunksize = 100000\n",
    "num_train_chunks = 10\n",
    "num_test_chunks = 10"
   ]
  },
  {
   "cell_type": "code",
   "execution_count": 3,
   "metadata": {},
   "outputs": [
    {
     "name": "stdout",
     "output_type": "stream",
     "text": [
      "----Loading Dataset----\n"
     ]
    }
   ],
   "source": [
    "print('----Loading Dataset----')\n",
    "ds_train_pd_df, ds_test_pd_df, target_col_name, target_col_idx, feature_col_names = susy_csv_to_df(\n",
    "        path_to_csv, chunksize, num_train_chunks, num_test_chunks)\n",
    "col_names = [target_col_name]+feature_col_names"
   ]
  },
  {
   "cell_type": "code",
   "execution_count": 4,
   "metadata": {},
   "outputs": [
    {
     "name": "stdout",
     "output_type": "stream",
     "text": [
      "----Creating H2O Context----\n",
      "Connecting to H2O server at http://192.168.2.253:54321... successful.\n"
     ]
    },
    {
     "data": {
      "text/html": [
       "<div style=\"overflow:auto\"><table style=\"width:50%\"><tr><td>H2O cluster uptime:</td>\n",
       "<td>12 secs</td></tr>\n",
       "<tr><td>H2O cluster timezone:</td>\n",
       "<td>America/Toronto</td></tr>\n",
       "<tr><td>H2O data parsing timezone:</td>\n",
       "<td>UTC</td></tr>\n",
       "<tr><td>H2O cluster version:</td>\n",
       "<td>3.22.1.4</td></tr>\n",
       "<tr><td>H2O cluster version age:</td>\n",
       "<td>17 days </td></tr>\n",
       "<tr><td>H2O cluster name:</td>\n",
       "<td>sparkling-water-varsrao_local-1551834540125</td></tr>\n",
       "<tr><td>H2O cluster total nodes:</td>\n",
       "<td>1</td></tr>\n",
       "<tr><td>H2O cluster free memory:</td>\n",
       "<td>754 Mb</td></tr>\n",
       "<tr><td>H2O cluster total cores:</td>\n",
       "<td>4</td></tr>\n",
       "<tr><td>H2O cluster allowed cores:</td>\n",
       "<td>4</td></tr>\n",
       "<tr><td>H2O cluster status:</td>\n",
       "<td>accepting new members, healthy</td></tr>\n",
       "<tr><td>H2O connection url:</td>\n",
       "<td>http://192.168.2.253:54321</td></tr>\n",
       "<tr><td>H2O connection proxy:</td>\n",
       "<td>None</td></tr>\n",
       "<tr><td>H2O internal security:</td>\n",
       "<td>False</td></tr>\n",
       "<tr><td>H2O API Extensions:</td>\n",
       "<td>XGBoost, Algos, Amazon S3, AutoML, Core V3, Core V4</td></tr>\n",
       "<tr><td>Python version:</td>\n",
       "<td>3.7.0 final</td></tr></table></div>"
      ],
      "text/plain": [
       "--------------------------  ---------------------------------------------------\n",
       "H2O cluster uptime:         12 secs\n",
       "H2O cluster timezone:       America/Toronto\n",
       "H2O data parsing timezone:  UTC\n",
       "H2O cluster version:        3.22.1.4\n",
       "H2O cluster version age:    17 days\n",
       "H2O cluster name:           sparkling-water-varsrao_local-1551834540125\n",
       "H2O cluster total nodes:    1\n",
       "H2O cluster free memory:    754 Mb\n",
       "H2O cluster total cores:    4\n",
       "H2O cluster allowed cores:  4\n",
       "H2O cluster status:         accepting new members, healthy\n",
       "H2O connection url:         http://192.168.2.253:54321\n",
       "H2O connection proxy:\n",
       "H2O internal security:      False\n",
       "H2O API Extensions:         XGBoost, Algos, Amazon S3, AutoML, Core V3, Core V4\n",
       "Python version:             3.7.0 final\n",
       "--------------------------  ---------------------------------------------------"
      ]
     },
     "metadata": {},
     "output_type": "display_data"
    },
    {
     "name": "stdout",
     "output_type": "stream",
     "text": [
      "\n",
      "Sparkling Water Context:\n",
      " * H2O name: sparkling-water-varsrao_local-1551834540125\n",
      " * cluster size: 1\n",
      " * list of used nodes:\n",
      "  (executorId, host, port)\n",
      "  ------------------------\n",
      "  (driver,192.168.2.253,54321)\n",
      "  ------------------------\n",
      "\n",
      "  Open H2O Flow in browser: http://192.168.2.253:54321 (CMD + click in Mac OSX)\n",
      "\n",
      "    \n"
     ]
    }
   ],
   "source": [
    "print('----Creating H2O Context----')\n",
    "hc = H2OContext.getOrCreate(spark)"
   ]
  },
  {
   "cell_type": "code",
   "execution_count": 5,
   "metadata": {},
   "outputs": [
    {
     "name": "stdout",
     "output_type": "stream",
     "text": [
      "----Creating H2O Frame----\n",
      "Parse progress: |█████████████████████████████████████████████████████████| 100%\n",
      "Parse progress: |█████████████████████████████████████████████████████████| 100%\n"
     ]
    }
   ],
   "source": [
    "print('----Creating H2O Frame----')\n",
    "import h2o\n",
    "ds_f = h2o.H2OFrame(ds_train_pd_df, column_names=col_names)\n",
    "ds_test_f = h2o.H2OFrame(ds_test_pd_df, column_names=col_names)\n",
    "ds_test_f[target_col_name] = ds_test_f[target_col_name].asfactor()\n",
    "\n",
    "h2o.cluster().timezone = \"Etc/UTC\""
   ]
  },
  {
   "cell_type": "code",
   "execution_count": 6,
   "metadata": {},
   "outputs": [
    {
     "name": "stdout",
     "output_type": "stream",
     "text": [
      "----Assembling Data----\n"
     ]
    }
   ],
   "source": [
    "print('----Assembling Data----')\n",
    "ds_f[target_col_name] = ds_f[target_col_name].asfactor()\n",
    "ds_f_splits = ds_f.split_frame(ratios=[0.8])\n",
    "ds_train_f, ds_val_f = ds_f_splits\n",
    "predictor_columns = ds_train_f.drop(target_col_name).col_names\n",
    "response_column = target_col_name"
   ]
  },
  {
   "cell_type": "code",
   "execution_count": 7,
   "metadata": {},
   "outputs": [
    {
     "name": "stdout",
     "output_type": "stream",
     "text": [
      "----Training Model----\n",
      "kmeans Model Build progress: |████████████████████████████████████████████| 100%\n"
     ]
    }
   ],
   "source": [
    "print('----Training Model----')\n",
    "from h2o.estimators.kmeans import H2OKMeansEstimator\n",
    "\n",
    "kmeans_model = H2OKMeansEstimator(k=2, max_iterations=1000000)\n",
    "\n",
    "kmeans_model.train(x            = predictor_columns,\n",
    "            training_frame   = ds_train_f,\n",
    "            validation_frame = ds_val_f\n",
    "         )"
   ]
  },
  {
   "cell_type": "code",
   "execution_count": 8,
   "metadata": {},
   "outputs": [
    {
     "name": "stdout",
     "output_type": "stream",
     "text": [
      "----Testing Model----\n",
      "kmeans prediction progress: |█████████████████████████████████████████████| 100%\n",
      "KMeans Accuracy = 0.669413\n",
      "----End----\n"
     ]
    }
   ],
   "source": [
    "print('----Testing Model----')\n",
    "predict_table = kmeans_model.predict(ds_test_f)\n",
    "predict_table_df = predict_table.as_data_frame()\n",
    "predictions = predict_table_df[\"predict\"].tolist()\n",
    "ground_truth = ds_test_pd_df[0]\n",
    "print('KMeans Accuracy = {0}'.format(sum(ground_truth==predictions)/len(ground_truth)))\n",
    "\n",
    "print('----End----')"
   ]
  }
 ],
 "metadata": {
  "kernelspec": {
   "display_name": "Python 3",
   "language": "python",
   "name": "python3"
  },
  "language_info": {
   "codemirror_mode": {
    "name": "ipython",
    "version": 3
   },
   "file_extension": ".py",
   "mimetype": "text/x-python",
   "name": "python",
   "nbconvert_exporter": "python",
   "pygments_lexer": "ipython3",
   "version": "3.7.0"
  }
 },
 "nbformat": 4,
 "nbformat_minor": 2
}
