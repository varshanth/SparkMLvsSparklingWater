{
 "cells": [
  {
   "cell_type": "code",
   "execution_count": 1,
   "metadata": {},
   "outputs": [],
   "source": [
    "from pysparkling import *\n",
    "from load_susy_into_df import susy_csv_to_df"
   ]
  },
  {
   "cell_type": "code",
   "execution_count": 2,
   "metadata": {},
   "outputs": [],
   "source": [
    "path_to_csv = '/home/varsrao/Downloads/SUSY.csv'\n",
    "chunksize = 100000\n",
    "num_train_chunks = 10\n",
    "num_test_chunks = 10"
   ]
  },
  {
   "cell_type": "code",
   "execution_count": 3,
   "metadata": {},
   "outputs": [
    {
     "name": "stdout",
     "output_type": "stream",
     "text": [
      "----Loading Dataset----\n"
     ]
    }
   ],
   "source": [
    "print('----Loading Dataset----')\n",
    "ds_train_pd_df, ds_test_pd_df, target_col_name, target_col_idx, feature_col_names = susy_csv_to_df(\n",
    "        path_to_csv, chunksize, num_train_chunks, num_test_chunks)\n",
    "col_names = [target_col_name]+feature_col_names"
   ]
  },
  {
   "cell_type": "code",
   "execution_count": 4,
   "metadata": {},
   "outputs": [
    {
     "name": "stdout",
     "output_type": "stream",
     "text": [
      "----Creating H2O Context----\n",
      "Connecting to H2O server at http://192.168.2.253:54325... successful.\n"
     ]
    },
    {
     "data": {
      "text/html": [
       "<div style=\"overflow:auto\"><table style=\"width:50%\"><tr><td>H2O cluster uptime:</td>\n",
       "<td>12 secs</td></tr>\n",
       "<tr><td>H2O cluster timezone:</td>\n",
       "<td>America/Toronto</td></tr>\n",
       "<tr><td>H2O data parsing timezone:</td>\n",
       "<td>UTC</td></tr>\n",
       "<tr><td>H2O cluster version:</td>\n",
       "<td>3.22.1.4</td></tr>\n",
       "<tr><td>H2O cluster version age:</td>\n",
       "<td>17 days </td></tr>\n",
       "<tr><td>H2O cluster name:</td>\n",
       "<td>sparkling-water-varsrao_local-1551835694879</td></tr>\n",
       "<tr><td>H2O cluster total nodes:</td>\n",
       "<td>1</td></tr>\n",
       "<tr><td>H2O cluster free memory:</td>\n",
       "<td>755 Mb</td></tr>\n",
       "<tr><td>H2O cluster total cores:</td>\n",
       "<td>4</td></tr>\n",
       "<tr><td>H2O cluster allowed cores:</td>\n",
       "<td>4</td></tr>\n",
       "<tr><td>H2O cluster status:</td>\n",
       "<td>accepting new members, healthy</td></tr>\n",
       "<tr><td>H2O connection url:</td>\n",
       "<td>http://192.168.2.253:54325</td></tr>\n",
       "<tr><td>H2O connection proxy:</td>\n",
       "<td>None</td></tr>\n",
       "<tr><td>H2O internal security:</td>\n",
       "<td>False</td></tr>\n",
       "<tr><td>H2O API Extensions:</td>\n",
       "<td>XGBoost, Algos, Amazon S3, AutoML, Core V3, Core V4</td></tr>\n",
       "<tr><td>Python version:</td>\n",
       "<td>3.7.0 final</td></tr></table></div>"
      ],
      "text/plain": [
       "--------------------------  ---------------------------------------------------\n",
       "H2O cluster uptime:         12 secs\n",
       "H2O cluster timezone:       America/Toronto\n",
       "H2O data parsing timezone:  UTC\n",
       "H2O cluster version:        3.22.1.4\n",
       "H2O cluster version age:    17 days\n",
       "H2O cluster name:           sparkling-water-varsrao_local-1551835694879\n",
       "H2O cluster total nodes:    1\n",
       "H2O cluster free memory:    755 Mb\n",
       "H2O cluster total cores:    4\n",
       "H2O cluster allowed cores:  4\n",
       "H2O cluster status:         accepting new members, healthy\n",
       "H2O connection url:         http://192.168.2.253:54325\n",
       "H2O connection proxy:\n",
       "H2O internal security:      False\n",
       "H2O API Extensions:         XGBoost, Algos, Amazon S3, AutoML, Core V3, Core V4\n",
       "Python version:             3.7.0 final\n",
       "--------------------------  ---------------------------------------------------"
      ]
     },
     "metadata": {},
     "output_type": "display_data"
    },
    {
     "name": "stdout",
     "output_type": "stream",
     "text": [
      "\n",
      "Sparkling Water Context:\n",
      " * H2O name: sparkling-water-varsrao_local-1551835694879\n",
      " * cluster size: 1\n",
      " * list of used nodes:\n",
      "  (executorId, host, port)\n",
      "  ------------------------\n",
      "  (driver,192.168.2.253,54325)\n",
      "  ------------------------\n",
      "\n",
      "  Open H2O Flow in browser: http://192.168.2.253:54325 (CMD + click in Mac OSX)\n",
      "\n",
      "    \n"
     ]
    }
   ],
   "source": [
    "print('----Creating H2O Context----')\n",
    "hc = H2OContext.getOrCreate(spark)"
   ]
  },
  {
   "cell_type": "code",
   "execution_count": 5,
   "metadata": {},
   "outputs": [
    {
     "name": "stdout",
     "output_type": "stream",
     "text": [
      "----Creating H2O Frame----\n",
      "Parse progress: |██████████████████████████████████████████████████████████████| 100%\n",
      "Parse progress: |█████████████████████████████████████████████████████████| 100%\n"
     ]
    }
   ],
   "source": [
    "print('----Creating H2O Frame----')\n",
    "import h2o\n",
    "ds_f = h2o.H2OFrame(ds_train_pd_df, column_names=col_names)\n",
    "ds_test_f = h2o.H2OFrame(ds_test_pd_df, column_names=col_names)\n",
    "ds_test_f[target_col_name] = ds_test_f[target_col_name].asfactor()\n",
    "\n",
    "h2o.cluster().timezone = \"Etc/UTC\""
   ]
  },
  {
   "cell_type": "code",
   "execution_count": 6,
   "metadata": {},
   "outputs": [
    {
     "name": "stdout",
     "output_type": "stream",
     "text": [
      "----Assembling Data----\n"
     ]
    }
   ],
   "source": [
    "print('----Assembling Data----')\n",
    "ds_f[target_col_name] = ds_f[target_col_name].asfactor()\n",
    "predictor_columns = ds_f.drop(target_col_name).col_names\n",
    "response_column = target_col_name"
   ]
  },
  {
   "cell_type": "code",
   "execution_count": 7,
   "metadata": {},
   "outputs": [
    {
     "name": "stdout",
     "output_type": "stream",
     "text": [
      "----Training Model----\n",
      "pca Model Build progress: |███████████████████████████████████████████████| 100%\n",
      "Importance of components: \n"
     ]
    },
    {
     "data": {
      "text/html": [
       "<div style=\"overflow:auto\"><table style=\"width:50%\"><tr><td><b></b></td>\n",
       "<td><b>pc1</b></td>\n",
       "<td><b>pc2</b></td>\n",
       "<td><b>pc3</b></td>\n",
       "<td><b>pc4</b></td>\n",
       "<td><b>pc5</b></td>\n",
       "<td><b>pc6</b></td>\n",
       "<td><b>pc7</b></td>\n",
       "<td><b>pc8</b></td>\n",
       "<td><b>pc9</b></td>\n",
       "<td><b>pc10</b></td></tr>\n",
       "<tr><td>Standard deviation</td>\n",
       "<td>3.6184818</td>\n",
       "<td>1.3119014</td>\n",
       "<td>1.1886384</td>\n",
       "<td>1.1455862</td>\n",
       "<td>1.0530202</td>\n",
       "<td>1.0179253</td>\n",
       "<td>0.8130579</td>\n",
       "<td>0.7739041</td>\n",
       "<td>0.6454309</td>\n",
       "<td>0.5923058</td></tr>\n",
       "<tr><td>Proportion of Variance</td>\n",
       "<td>0.5888008</td>\n",
       "<td>0.0773959</td>\n",
       "<td>0.0635353</td>\n",
       "<td>0.0590162</td>\n",
       "<td>0.0498642</td>\n",
       "<td>0.0465959</td>\n",
       "<td>0.0297275</td>\n",
       "<td>0.0269333</td>\n",
       "<td>0.0187333</td>\n",
       "<td>0.0157764</td></tr>\n",
       "<tr><td>Cumulative Proportion</td>\n",
       "<td>0.5888008</td>\n",
       "<td>0.6661967</td>\n",
       "<td>0.7297320</td>\n",
       "<td>0.7887482</td>\n",
       "<td>0.8386124</td>\n",
       "<td>0.8852082</td>\n",
       "<td>0.9149358</td>\n",
       "<td>0.9418691</td>\n",
       "<td>0.9606024</td>\n",
       "<td>0.9763788</td></tr></table></div>"
      ],
      "text/plain": [
       "                        pc1       pc2        pc3        pc4        pc5        pc6        pc7        pc8        pc9        pc10\n",
       "----------------------  --------  ---------  ---------  ---------  ---------  ---------  ---------  ---------  ---------  ---------\n",
       "Standard deviation      3.61848   1.3119     1.18864    1.14559    1.05302    1.01793    0.813058   0.773904   0.645431   0.592306\n",
       "Proportion of Variance  0.588801  0.0773959  0.0635353  0.0590162  0.0498642  0.0465959  0.0297275  0.0269333  0.0187333  0.0157764\n",
       "Cumulative Proportion   0.588801  0.666197   0.729732   0.788748   0.838612   0.885208   0.914936   0.941869   0.960602   0.976379"
      ]
     },
     "metadata": {},
     "output_type": "display_data"
    },
    {
     "data": {
      "text/plain": []
     },
     "execution_count": 7,
     "metadata": {},
     "output_type": "execute_result"
    }
   ],
   "source": [
    "print('----Training Model----')\n",
    "from h2o.transforms.decomposition import H2OPCA\n",
    "pca_decomp = H2OPCA(k=10, transform=\"NONE\", pca_method=\"Power\", impute_missing=True)\n",
    "pca_decomp.train(x=predictor_columns, training_frame=ds_f)\n",
    "pca_decomp.summary()"
   ]
  },
  {
   "cell_type": "code",
   "execution_count": 8,
   "metadata": {},
   "outputs": [
    {
     "name": "stdout",
     "output_type": "stream",
     "text": [
      "----Testing Model----\n",
      "pca prediction progress: |████████████████████████████████████████████████| 100%\n",
      "10\n",
      "----End----\n"
     ]
    }
   ],
   "source": [
    "print('----Testing Model----')\n",
    "predictions = pca_decomp.predict(ds_test_f)\n",
    "print(predictions.ncols)\n",
    "\n",
    "print('----End----')"
   ]
  }
 ],
 "metadata": {
  "kernelspec": {
   "display_name": "Python 3",
   "language": "python",
   "name": "python3"
  },
  "language_info": {
   "codemirror_mode": {
    "name": "ipython",
    "version": 3
   },
   "file_extension": ".py",
   "mimetype": "text/x-python",
   "name": "python",
   "nbconvert_exporter": "python",
   "pygments_lexer": "ipython3",
   "version": "3.7.0"
  }
 },
 "nbformat": 4,
 "nbformat_minor": 2
}
